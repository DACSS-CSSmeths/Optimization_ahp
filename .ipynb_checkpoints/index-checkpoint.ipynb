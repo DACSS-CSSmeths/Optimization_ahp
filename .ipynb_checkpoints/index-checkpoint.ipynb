{
 "cells": [
  {
   "cell_type": "markdown",
   "id": "e94c1246",
   "metadata": {},
   "source": [
    "<center><img src=\"https://github.com/DACSS-CSSmeths/guidelines/blob/main/pics/small_logo_ccs_meths.jpg?raw=true\" width=\"700\"/></center>\n",
    "\n",
    "_____\n",
    "<a id='home'></a>\n",
    "\n",
    "\n",
    "# Introduction to Optimization for Decision Making\n"
   ]
  },
  {
   "cell_type": "markdown",
   "id": "2478f1d7-aa1c-4e6c-b404-d7faf01ab371",
   "metadata": {},
   "source": [
    "# Part 2: Multicriteria Decision-Making"
   ]
  },
  {
   "cell_type": "code",
   "execution_count": 21,
   "id": "4bf5038e-daec-4f81-a2dd-afe31322f7e3",
   "metadata": {},
   "outputs": [
    {
     "data": {
      "text/html": [
       "\n",
       "\n",
       "\n",
       "<iframe src=\"https://docs.google.com/presentation/d/e/2PACX-1vR_rRFAM3dbRH8R_Hbme-LmSGUxL_tDmy7BiHCUvtc_2r_lvwO8cFrjMVYXbrV6Nw5XbkE3X2iLMXui/embed?start=false&loop=false&delayms=3000\" frameborder=\"0\" width=\"960\" height=\"569\" allowfullscreen=\"true\" mozallowfullscreen=\"true\" webkitallowfullscreen=\"true\"></iframe>\n"
      ],
      "text/plain": [
       "<IPython.core.display.HTML object>"
      ]
     },
     "metadata": {},
     "output_type": "display_data"
    }
   ],
   "source": [
    "%%html\n",
    "\n",
    "\n",
    "\n",
    "<iframe src=\"https://docs.google.com/presentation/d/e/2PACX-1vR_rRFAM3dbRH8R_Hbme-LmSGUxL_tDmy7BiHCUvtc_2r_lvwO8cFrjMVYXbrV6Nw5XbkE3X2iLMXui/embed?start=false&loop=false&delayms=3000\" frameborder=\"0\" width=\"960\" height=\"569\" allowfullscreen=\"true\" mozallowfullscreen=\"true\" webkitallowfullscreen=\"true\"></iframe>\n"
   ]
  },
  {
   "cell_type": "markdown",
   "id": "a0717b92-b145-4499-baad-fa95a1a755cf",
   "metadata": {},
   "source": [
    "## AHP in Python\n",
    "\n",
    "# The Comparissons\n",
    "\n",
    "\n",
    "1. Prepare data file with the comparissons: You will use an excel file for this. In this step, you and the other decision makers will make pairwise comparissons for:\n",
    "   \n",
    "a. The alternatives for each criterion.\n",
    "\n",
    "b. The criteria themselves.\n",
    "\n",
    "The excel for the example is follows:"
   ]
  },
  {
   "cell_type": "code",
   "execution_count": 2,
   "id": "227c2b77-cc4e-4437-b7bc-c522b22168d8",
   "metadata": {},
   "outputs": [
    {
     "data": {
      "text/html": [
       "\n",
       "<iframe src=\"https://docs.google.com/spreadsheets/d/e/2PACX-1vSeUfh-DtfAAvEecirNS7Qs2qN4npmNfRiw9JvKmRpq88snVc8HJBlru2cyPy8lsQflSxlnx6U-IePw/pubhtml?widget=true&amp;headers=false\" width=\"600\" height=\"300\" ></iframe>\n"
      ],
      "text/plain": [
       "<IPython.core.display.HTML object>"
      ]
     },
     "metadata": {},
     "output_type": "display_data"
    }
   ],
   "source": [
    "%%html\n",
    "\n",
    "<iframe src=\"https://docs.google.com/spreadsheets/d/e/2PACX-1vSeUfh-DtfAAvEecirNS7Qs2qN4npmNfRiw9JvKmRpq88snVc8HJBlru2cyPy8lsQflSxlnx6U-IePw/pubhtml?widget=true&amp;headers=false\" width=\"600\" height=\"300\" ></iframe>"
   ]
  },
  {
   "cell_type": "markdown",
   "id": "52def875-21cf-4270-a9b2-d61aed9fc025",
   "metadata": {},
   "source": [
    "2. Get the data into Python\n",
    "\n",
    "Once the excel is ready, you may bring it into Python. "
   ]
  },
  {
   "cell_type": "code",
   "execution_count": 3,
   "id": "5afba538-ee4e-4a1b-9573-22dcbb177db5",
   "metadata": {},
   "outputs": [],
   "source": [
    "# the link to the data\n",
    "\n",
    "linkGoogle='https://docs.google.com/spreadsheets/d/e/2PACX-1vSeUfh-DtfAAvEecirNS7Qs2qN4npmNfRiw9JvKmRpq88snVc8HJBlru2cyPy8lsQflSxlnx6U-IePw/pub?output=xlsx'# the link to the data"
   ]
  },
  {
   "cell_type": "markdown",
   "id": "7c73c2ca-2022-42e9-bf24-1559b215d7a9",
   "metadata": {},
   "source": [
    "3. Open each sheet:\n",
    "\n",
    "Above you have the link, but not the data yet. Let me get each comparisson sheet:"
   ]
  },
  {
   "cell_type": "code",
   "execution_count": 22,
   "id": "506d30ad-4079-46fe-8d2a-1b76052c243e",
   "metadata": {},
   "outputs": [
    {
     "data": {
      "text/html": [
       "<div>\n",
       "<style scoped>\n",
       "    .dataframe tbody tr th:only-of-type {\n",
       "        vertical-align: middle;\n",
       "    }\n",
       "\n",
       "    .dataframe tbody tr th {\n",
       "        vertical-align: top;\n",
       "    }\n",
       "\n",
       "    .dataframe thead th {\n",
       "        text-align: right;\n",
       "    }\n",
       "</style>\n",
       "<table border=\"1\" class=\"dataframe\">\n",
       "  <thead>\n",
       "    <tr style=\"text-align: right;\">\n",
       "      <th></th>\n",
       "      <th>Unnamed: 0</th>\n",
       "      <th>Tom</th>\n",
       "      <th>Dick</th>\n",
       "      <th>Harry</th>\n",
       "    </tr>\n",
       "  </thead>\n",
       "  <tbody>\n",
       "    <tr>\n",
       "      <th>0</th>\n",
       "      <td>Tom</td>\n",
       "      <td>1.0</td>\n",
       "      <td>0.333333</td>\n",
       "      <td>5</td>\n",
       "    </tr>\n",
       "    <tr>\n",
       "      <th>1</th>\n",
       "      <td>Dick</td>\n",
       "      <td>3.0</td>\n",
       "      <td>1.000000</td>\n",
       "      <td>9</td>\n",
       "    </tr>\n",
       "    <tr>\n",
       "      <th>2</th>\n",
       "      <td>Harry</td>\n",
       "      <td>0.2</td>\n",
       "      <td>0.111111</td>\n",
       "      <td>1</td>\n",
       "    </tr>\n",
       "  </tbody>\n",
       "</table>\n",
       "</div>"
      ],
      "text/plain": [
       "  Unnamed: 0  Tom      Dick  Harry\n",
       "0        Tom  1.0  0.333333      5\n",
       "1       Dick  3.0  1.000000      9\n",
       "2      Harry  0.2  0.111111      1"
      ]
     },
     "execution_count": 22,
     "metadata": {},
     "output_type": "execute_result"
    }
   ],
   "source": [
    "# this one first\n",
    "import pandas as pd\n",
    "\n",
    "pairwise_age=pd.read_excel(linkGoogle,sheet_name='age')\n",
    "pairwise_age"
   ]
  },
  {
   "cell_type": "markdown",
   "id": "e8e2d197-fae4-4f97-be8b-772cafa1e0ec",
   "metadata": {},
   "source": [
    "That table will not work well, we need this one:"
   ]
  },
  {
   "cell_type": "code",
   "execution_count": 24,
   "id": "395cf16e-b77e-488d-8c82-cd3e618e37e9",
   "metadata": {},
   "outputs": [
    {
     "data": {
      "text/html": [
       "<div>\n",
       "<style scoped>\n",
       "    .dataframe tbody tr th:only-of-type {\n",
       "        vertical-align: middle;\n",
       "    }\n",
       "\n",
       "    .dataframe tbody tr th {\n",
       "        vertical-align: top;\n",
       "    }\n",
       "\n",
       "    .dataframe thead th {\n",
       "        text-align: right;\n",
       "    }\n",
       "</style>\n",
       "<table border=\"1\" class=\"dataframe\">\n",
       "  <thead>\n",
       "    <tr style=\"text-align: right;\">\n",
       "      <th></th>\n",
       "      <th>Tom</th>\n",
       "      <th>Dick</th>\n",
       "      <th>Harry</th>\n",
       "    </tr>\n",
       "  </thead>\n",
       "  <tbody>\n",
       "    <tr>\n",
       "      <th>Tom</th>\n",
       "      <td>1.0</td>\n",
       "      <td>0.333333</td>\n",
       "      <td>5</td>\n",
       "    </tr>\n",
       "    <tr>\n",
       "      <th>Dick</th>\n",
       "      <td>3.0</td>\n",
       "      <td>1.000000</td>\n",
       "      <td>9</td>\n",
       "    </tr>\n",
       "    <tr>\n",
       "      <th>Harry</th>\n",
       "      <td>0.2</td>\n",
       "      <td>0.111111</td>\n",
       "      <td>1</td>\n",
       "    </tr>\n",
       "  </tbody>\n",
       "</table>\n",
       "</div>"
      ],
      "text/plain": [
       "       Tom      Dick  Harry\n",
       "Tom    1.0  0.333333      5\n",
       "Dick   3.0  1.000000      9\n",
       "Harry  0.2  0.111111      1"
      ]
     },
     "execution_count": 24,
     "metadata": {},
     "output_type": "execute_result"
    }
   ],
   "source": [
    "pairwise_age=pd.read_excel(linkGoogle,sheet_name='age', index_col=0) # notice\n",
    "pairwise_age"
   ]
  },
  {
   "cell_type": "markdown",
   "id": "15e2a9a3-df32-4d7a-bbc6-9991f4231889",
   "metadata": {},
   "source": [
    "Nw you know how to read the rest:"
   ]
  },
  {
   "cell_type": "code",
   "execution_count": 25,
   "id": "eb165cc5-95fb-499a-a6f5-9306914d7249",
   "metadata": {},
   "outputs": [],
   "source": [
    "# opening the comparissons\n",
    "pairwise_experience=pd.read_excel(linkGoogle,sheet_name='experience', index_col=0)\n",
    "pairwise_education=pd.read_excel(linkGoogle,sheet_name='education', index_col=0)\n",
    "pairwise_charisma=pd.read_excel(linkGoogle,sheet_name='charisma', index_col=0)\n",
    "pairwise_criteria=pd.read_excel(linkGoogle,sheet_name='criteria', index_col=0)"
   ]
  },
  {
   "cell_type": "markdown",
   "id": "5f775058-f007-4d9a-8655-98021ef0a1e0",
   "metadata": {},
   "source": [
    "Check the criteria, just in case:"
   ]
  },
  {
   "cell_type": "code",
   "execution_count": 27,
   "id": "bb707240-1275-4408-9471-7842c7b43c85",
   "metadata": {},
   "outputs": [
    {
     "data": {
      "text/html": [
       "<div>\n",
       "<style scoped>\n",
       "    .dataframe tbody tr th:only-of-type {\n",
       "        vertical-align: middle;\n",
       "    }\n",
       "\n",
       "    .dataframe tbody tr th {\n",
       "        vertical-align: top;\n",
       "    }\n",
       "\n",
       "    .dataframe thead th {\n",
       "        text-align: right;\n",
       "    }\n",
       "</style>\n",
       "<table border=\"1\" class=\"dataframe\">\n",
       "  <thead>\n",
       "    <tr style=\"text-align: right;\">\n",
       "      <th></th>\n",
       "      <th>experience</th>\n",
       "      <th>education</th>\n",
       "      <th>charisma</th>\n",
       "      <th>age</th>\n",
       "    </tr>\n",
       "  </thead>\n",
       "  <tbody>\n",
       "    <tr>\n",
       "      <th>experience</th>\n",
       "      <td>1.000000</td>\n",
       "      <td>4.000000</td>\n",
       "      <td>3.000000</td>\n",
       "      <td>7</td>\n",
       "    </tr>\n",
       "    <tr>\n",
       "      <th>education</th>\n",
       "      <td>0.250000</td>\n",
       "      <td>1.000000</td>\n",
       "      <td>0.333333</td>\n",
       "      <td>3</td>\n",
       "    </tr>\n",
       "    <tr>\n",
       "      <th>charisma</th>\n",
       "      <td>0.333333</td>\n",
       "      <td>3.000000</td>\n",
       "      <td>1.000000</td>\n",
       "      <td>5</td>\n",
       "    </tr>\n",
       "    <tr>\n",
       "      <th>age</th>\n",
       "      <td>0.142857</td>\n",
       "      <td>0.333333</td>\n",
       "      <td>0.200000</td>\n",
       "      <td>1</td>\n",
       "    </tr>\n",
       "  </tbody>\n",
       "</table>\n",
       "</div>"
      ],
      "text/plain": [
       "            experience  education  charisma  age\n",
       "experience    1.000000   4.000000  3.000000    7\n",
       "education     0.250000   1.000000  0.333333    3\n",
       "charisma      0.333333   3.000000  1.000000    5\n",
       "age           0.142857   0.333333  0.200000    1"
      ]
     },
     "execution_count": 27,
     "metadata": {},
     "output_type": "execute_result"
    }
   ],
   "source": [
    "pairwise_criteria"
   ]
  },
  {
   "cell_type": "markdown",
   "id": "f6d4aa97-40d1-4076-87f6-df34959b9011",
   "metadata": {},
   "source": [
    "Notice the when you use a label (alternative and criteria names) in the comparissons, that has to be the same accross all tables."
   ]
  },
  {
   "cell_type": "markdown",
   "id": "cc2b0d2d-68f7-4f44-a016-7ade98c2edc0",
   "metadata": {},
   "source": [
    "# The Data Preparation\n",
    "\n",
    "4. Transform all matrices into pairwise comparissons:\n",
    "\n",
    "This is a just a code to make the comparissons readable in th AHP library we will use. "
   ]
  },
  {
   "cell_type": "code",
   "execution_count": 6,
   "id": "7489673e-1160-4fb9-af4e-17bd6c3d47b5",
   "metadata": {},
   "outputs": [
    {
     "data": {
      "text/plain": [
       "OutMultiEdgeDataView([('Tom', 'Tom', {'weight': 1.0}), ('Tom', 'Dick', {'weight': 0.3333333333}), ('Tom', 'Harry', {'weight': 5.0}), ('Dick', 'Tom', {'weight': 3.0}), ('Dick', 'Dick', {'weight': 1.0}), ('Dick', 'Harry', {'weight': 9.0}), ('Harry', 'Tom', {'weight': 0.2}), ('Harry', 'Dick', {'weight': 0.1111111111}), ('Harry', 'Harry', {'weight': 1.0})])"
      ]
     },
     "execution_count": 6,
     "metadata": {},
     "output_type": "execute_result"
    }
   ],
   "source": [
    "import networkx as nx\n",
    "\n",
    "G_age = nx.from_pandas_adjacency(pairwise_age, # just change this pairwase\n",
    "                                 create_using=nx.MultiDiGraph())\n",
    "\n",
    "# pairwise\n",
    "G_age.edges(data=True)"
   ]
  },
  {
   "cell_type": "code",
   "execution_count": 28,
   "id": "5c159762-70a2-4d13-aca5-77ad593cc8d7",
   "metadata": {},
   "outputs": [
    {
     "data": {
      "text/plain": [
       "{('Tom', 'Dick'): 0.3333333333,\n",
       " ('Tom', 'Harry'): 5.0,\n",
       " ('Dick', 'Tom'): 3.0,\n",
       " ('Dick', 'Harry'): 9.0,\n",
       " ('Harry', 'Tom'): 0.2,\n",
       " ('Harry', 'Dick'): 0.1111111111}"
      ]
     },
     "execution_count": 28,
     "metadata": {},
     "output_type": "execute_result"
    }
   ],
   "source": [
    "# comparissons for age as dict\n",
    "age_comparisons ={(e[0],e[1]):e[2]['weight'] for e in G_age.edges(data=True) if e[0]!= e[1]}\n",
    "\n",
    "# notice e[0]!= e[1] will drop the self comparissons\n",
    "age_comparisons"
   ]
  },
  {
   "cell_type": "code",
   "execution_count": 29,
   "id": "91910bf0-55d1-4001-adcd-aeb255486e32",
   "metadata": {},
   "outputs": [],
   "source": [
    "# the remaining comparissons:\n",
    "\n",
    "G_exp = nx.from_pandas_adjacency(pairwise_experience,create_using=nx.MultiDiGraph())\n",
    "experience_comparisons={(e[0],e[1]):e[2]['weight'] for e in G_exp.edges(data=True) if e[0]!= e[1]}\n",
    "\n",
    "G_edu = nx.from_pandas_adjacency(pairwise_education,create_using=nx.MultiDiGraph())\n",
    "education_comparisons={(e[0],e[1]):e[2]['weight'] for e in G_edu.edges(data=True) if e[0]!= e[1]}\n",
    "\n",
    "G_cha = nx.from_pandas_adjacency(pairwise_charisma,create_using=nx.MultiDiGraph())\n",
    "charisma_comparisons={(e[0],e[1]):e[2]['weight'] for e in G_cha.edges(data=True) if e[0]!= e[1]}"
   ]
  },
  {
   "cell_type": "code",
   "execution_count": 30,
   "id": "1a060b13-70ec-4121-bf45-a073435eca58",
   "metadata": {},
   "outputs": [
    {
     "data": {
      "text/plain": [
       "[{('Tom', 'Dick'): 0.3333333333,\n",
       "  ('Tom', 'Harry'): 5.0,\n",
       "  ('Dick', 'Tom'): 3.0,\n",
       "  ('Dick', 'Harry'): 9.0,\n",
       "  ('Harry', 'Tom'): 0.2,\n",
       "  ('Harry', 'Dick'): 0.1111111111},\n",
       " {('Tom', 'Dick'): 0.25,\n",
       "  ('Tom', 'Harry'): 4.0,\n",
       "  ('Dick', 'Tom'): 4.0,\n",
       "  ('Dick', 'Harry'): 9.0,\n",
       "  ('Harry', 'Tom'): 0.25,\n",
       "  ('Harry', 'Dick'): 0.1111111111},\n",
       " {('Tom', 'Dick'): 3.0,\n",
       "  ('Tom', 'Harry'): 0.2,\n",
       "  ('Dick', 'Tom'): 0.3333333333,\n",
       "  ('Dick', 'Harry'): 0.1428571429,\n",
       "  ('Harry', 'Tom'): 5.0,\n",
       "  ('Harry', 'Dick'): 7.0},\n",
       " {('Tom', 'Dick'): 5.0,\n",
       "  ('Tom', 'Harry'): 9.0,\n",
       "  ('Dick', 'Tom'): 0.2,\n",
       "  ('Dick', 'Harry'): 4.0,\n",
       "  ('Harry', 'Tom'): 0.1111111111,\n",
       "  ('Harry', 'Dick'): 0.25}]"
      ]
     },
     "execution_count": 30,
     "metadata": {},
     "output_type": "execute_result"
    }
   ],
   "source": [
    "# take a look\n",
    "[age_comparisons, experience_comparisons,education_comparisons,charisma_comparisons]"
   ]
  },
  {
   "cell_type": "code",
   "execution_count": 31,
   "id": "c84996bc-4941-42cb-8855-54c72a6737a9",
   "metadata": {},
   "outputs": [
    {
     "data": {
      "text/plain": [
       "{('experience', 'education'): 4.0,\n",
       " ('experience', 'charisma'): 3.0,\n",
       " ('experience', 'age'): 7.0,\n",
       " ('education', 'experience'): 0.25,\n",
       " ('education', 'charisma'): 0.3333333333,\n",
       " ('education', 'age'): 3.0,\n",
       " ('charisma', 'experience'): 0.3333333333,\n",
       " ('charisma', 'education'): 3.0,\n",
       " ('charisma', 'age'): 5.0,\n",
       " ('age', 'experience'): 0.1428571429,\n",
       " ('age', 'education'): 0.3333333333,\n",
       " ('age', 'charisma'): 0.2}"
      ]
     },
     "execution_count": 31,
     "metadata": {},
     "output_type": "execute_result"
    }
   ],
   "source": [
    "# now the criteria\n",
    "\n",
    "G_CRIT = nx.from_pandas_adjacency(pairwise_criteria,create_using=nx.MultiDiGraph())\n",
    "criteria_comparisons ={(e[0],e[1]):e[2]['weight'] for e in G_CRIT.edges(data=True) if e[0]!= e[1]}\n",
    "criteria_comparisons"
   ]
  },
  {
   "cell_type": "markdown",
   "id": "537c0ad5-e1b0-4d49-a60c-e7a3a0d95c2d",
   "metadata": {},
   "source": [
    "# AHP\n",
    "\n",
    "\n",
    "5. Apply the Algorithm"
   ]
  },
  {
   "cell_type": "code",
   "execution_count": 32,
   "id": "69e67f1d-408e-446b-9991-0566a0aaee5b",
   "metadata": {},
   "outputs": [
    {
     "name": "stdout",
     "output_type": "stream",
     "text": [
      "Requirement already satisfied: ahpy in /Users/JoseManuel/opt/anaconda3/envs/CSSmeth_3_10/lib/python3.10/site-packages (2.0)\n",
      "Requirement already satisfied: numpy in /Users/JoseManuel/opt/anaconda3/envs/CSSmeth_3_10/lib/python3.10/site-packages (from ahpy) (1.26.4)\n",
      "Requirement already satisfied: scipy in /Users/JoseManuel/opt/anaconda3/envs/CSSmeth_3_10/lib/python3.10/site-packages (from ahpy) (1.15.1)\n"
     ]
    }
   ],
   "source": [
    "## install\n",
    "# !pip install --force-reinstall numpy==1.26.4\n",
    "!pip install ahpy\n"
   ]
  },
  {
   "cell_type": "code",
   "execution_count": 33,
   "id": "16ec39e8-0c5e-4803-8a05-00b354bc2133",
   "metadata": {},
   "outputs": [],
   "source": [
    "# input each comparisson\n",
    "\n",
    "import ahpy\n",
    "\n",
    "experience = ahpy.Compare('experience', experience_comparisons, random_index='saaty')\n",
    "education = ahpy.Compare('education', education_comparisons, random_index='saaty')\n",
    "charisma = ahpy.Compare('charisma', charisma_comparisons, random_index='saaty')\n",
    "age = ahpy.Compare('age', age_comparisons, random_index='saaty')\n",
    "criteria = ahpy.Compare('criteria', criteria_comparisons, random_index='saaty')"
   ]
  },
  {
   "cell_type": "markdown",
   "id": "e6ab4dfb-efc1-4940-adf9-21e2940fcb33",
   "metadata": {},
   "source": [
    "6. Create hierarchy:"
   ]
  },
  {
   "cell_type": "code",
   "execution_count": 34,
   "id": "7cdf93ec-edf1-4127-8734-885d6da1c855",
   "metadata": {},
   "outputs": [],
   "source": [
    "criteria.add_children([experience, education, charisma, age])"
   ]
  },
  {
   "cell_type": "markdown",
   "id": "ebc25b0c-6a21-439e-a4da-6c8d5e50797d",
   "metadata": {},
   "source": [
    "7. See result:"
   ]
  },
  {
   "cell_type": "code",
   "execution_count": 35,
   "id": "ba46787a-e341-4867-9321-412f8be5a92a",
   "metadata": {},
   "outputs": [
    {
     "name": "stdout",
     "output_type": "stream",
     "text": [
      "{'Dick': 0.4928, 'Tom': 0.3581, 'Harry': 0.1491}\n"
     ]
    }
   ],
   "source": [
    "print(criteria.target_weights)"
   ]
  },
  {
   "cell_type": "markdown",
   "id": "2dc9dcde-7d2b-4bb8-8d93-c16b73f4347b",
   "metadata": {},
   "source": [
    "8. Assess consistency"
   ]
  },
  {
   "cell_type": "code",
   "execution_count": 36,
   "id": "c07344a5-0ed2-4d7a-9f44-a284a3ee122b",
   "metadata": {},
   "outputs": [
    {
     "data": {
      "text/plain": [
       "[('experience', 0.0355),\n",
       " ('education', 0.0624),\n",
       " ('charisma', 0.0685),\n",
       " ('age', 0.0279),\n",
       " ('criteria', 0.0444)]"
      ]
     },
     "execution_count": 36,
     "metadata": {},
     "output_type": "execute_result"
    }
   ],
   "source": [
    "## We should review comparissons if greater than 0.1!\n",
    "[(val.name,val.consistency_ratio) for val in [experience, education, charisma, age, criteria]]"
   ]
  }
 ],
 "metadata": {
  "kernelspec": {
   "display_name": "Python 3 (ipykernel)",
   "language": "python",
   "name": "python3"
  },
  "language_info": {
   "codemirror_mode": {
    "name": "ipython",
    "version": 3
   },
   "file_extension": ".py",
   "mimetype": "text/x-python",
   "name": "python",
   "nbconvert_exporter": "python",
   "pygments_lexer": "ipython3",
   "version": "3.10.16"
  }
 },
 "nbformat": 4,
 "nbformat_minor": 5
}
